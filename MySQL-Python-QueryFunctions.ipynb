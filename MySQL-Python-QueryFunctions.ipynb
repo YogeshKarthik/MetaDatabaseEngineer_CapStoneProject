{
 "cells": [
  {
   "cell_type": "code",
   "execution_count": 1,
   "id": "58b2f2bf",
   "metadata": {},
   "outputs": [],
   "source": [
    "# !pip install mysql-connector-python"
   ]
  },
  {
   "cell_type": "code",
   "execution_count": 2,
   "id": "2b4e41fc",
   "metadata": {},
   "outputs": [],
   "source": [
    "import mysql.connector as connector"
   ]
  },
  {
   "cell_type": "code",
   "execution_count": 3,
   "id": "96cea2f2",
   "metadata": {},
   "outputs": [],
   "source": [
    "# creating a connection to mysql little lemon database\n",
    "connection = connector.connect(user = \"project\", password = \"project\", database = \"littlelemondb\")"
   ]
  },
  {
   "cell_type": "code",
   "execution_count": 4,
   "id": "bbf3de53",
   "metadata": {},
   "outputs": [],
   "source": [
    "# creating the show tables query\n",
    "cursor = connection.cursor()\n",
    "\n",
    "show_tables_query = '''SHOW tables;''' \n",
    "cursor.execute(show_tables_query)"
   ]
  },
  {
   "cell_type": "code",
   "execution_count": 5,
   "id": "a6181e50",
   "metadata": {},
   "outputs": [
    {
     "name": "stdout",
     "output_type": "stream",
     "text": [
      "('bookings',)\n",
      "('customers',)\n",
      "('deliverystatus',)\n",
      "('employees',)\n",
      "('menuitems',)\n",
      "('orders',)\n"
     ]
    }
   ],
   "source": [
    "# displaying the tables\n",
    "for table in cursor:\n",
    "    print(table)"
   ]
  },
  {
   "cell_type": "code",
   "execution_count": 6,
   "id": "ad029e3d",
   "metadata": {},
   "outputs": [],
   "source": [
    "# creating a query to find customers that have spent more than $60\n",
    "\n",
    "pay_query = ''' \n",
    "SELECT Customers.CustomerID, CONCAT(Customers.FirstName, \" \", Customers.LastName) AS FullName,\n",
    "Orders.BillAmount\n",
    "FROM customers\n",
    "JOIN Bookings ON Bookings.CustomerID = Customers.CustomerID\n",
    "JOIN Orders ON Orders.BookingID = Bookings.BookingID\n",
    "WHERE Orders.BillAmount >= 60;\n",
    "'''\n",
    "\n",
    "cursor.execute(pay_query)"
   ]
  },
  {
   "cell_type": "code",
   "execution_count": 7,
   "id": "7b27d5cd",
   "metadata": {},
   "outputs": [
    {
     "name": "stdout",
     "output_type": "stream",
     "text": [
      "('CustomerID', 'FullName', 'BillAmount')\n",
      "   1      Anna Iversen      86.00\n"
     ]
    }
   ],
   "source": [
    "#displaying the result of the query\n",
    "print(cursor.column_names)\n",
    "\n",
    "for result in cursor.fetchall():\n",
    "    print('  ', result[0],'    ', result[1], '    ',result[2])"
   ]
  },
  {
   "cell_type": "code",
   "execution_count": null,
   "id": "de88741b",
   "metadata": {},
   "outputs": [],
   "source": [
    "cursor.sequl"
   ]
  }
 ],
 "metadata": {
  "kernelspec": {
   "display_name": "Python 3 (ipykernel)",
   "language": "python",
   "name": "python3"
  },
  "language_info": {
   "codemirror_mode": {
    "name": "ipython",
    "version": 3
   },
   "file_extension": ".py",
   "mimetype": "text/x-python",
   "name": "python",
   "nbconvert_exporter": "python",
   "pygments_lexer": "ipython3",
   "version": "3.7.11"
  }
 },
 "nbformat": 4,
 "nbformat_minor": 5
}
